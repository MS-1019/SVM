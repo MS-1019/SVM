{
 "cells": [
  {
   "cell_type": "code",
   "execution_count": 50,
   "id": "c733c0dc-f804-4064-90b2-6768aa8a02b1",
   "metadata": {},
   "outputs": [],
   "source": [
    "import pandas as pd \n",
    "import numpy as np\n",
    "import matplotlib.pyplot as plt\n",
    "import seaborn as sns\n",
    "\n",
    "import warnings\n",
    "warnings.filterwarnings('ignore')"
   ]
  },
  {
   "cell_type": "code",
   "execution_count": 51,
   "id": "322e6a06-3345-4a2a-b60d-b78b7627d26b",
   "metadata": {},
   "outputs": [
    {
     "data": {
      "application/vnd.microsoft.datawrangler.viewer.v0+json": {
       "columns": [
        {
         "name": "index",
         "rawType": "int64",
         "type": "integer"
        },
        {
         "name": "Car_Name",
         "rawType": "object",
         "type": "string"
        },
        {
         "name": "Year",
         "rawType": "int64",
         "type": "integer"
        },
        {
         "name": "Selling_Price",
         "rawType": "float64",
         "type": "float"
        },
        {
         "name": "Present_Price",
         "rawType": "float64",
         "type": "float"
        },
        {
         "name": "Kms_Driven",
         "rawType": "int64",
         "type": "integer"
        },
        {
         "name": "Fuel_Type",
         "rawType": "object",
         "type": "string"
        },
        {
         "name": "Seller_Type",
         "rawType": "object",
         "type": "string"
        },
        {
         "name": "Transmission",
         "rawType": "object",
         "type": "string"
        },
        {
         "name": "Owner",
         "rawType": "int64",
         "type": "integer"
        }
       ],
       "ref": "57f570ac-b648-48da-8405-9d68fee7235f",
       "rows": [
        [
         "0",
         "ritz",
         "2014",
         "3.35",
         "5.59",
         "27000",
         "Petrol",
         "Dealer",
         "Manual",
         "0"
        ],
        [
         "1",
         "sx4",
         "2013",
         "4.75",
         "9.54",
         "43000",
         "Diesel",
         "Dealer",
         "Manual",
         "0"
        ],
        [
         "2",
         "ciaz",
         "2017",
         "7.25",
         "9.85",
         "6900",
         "Petrol",
         "Dealer",
         "Manual",
         "0"
        ],
        [
         "3",
         "wagon r",
         "2011",
         "2.85",
         "4.15",
         "5200",
         "Petrol",
         "Dealer",
         "Manual",
         "0"
        ],
        [
         "4",
         "swift",
         "2014",
         "4.6",
         "6.87",
         "42450",
         "Diesel",
         "Dealer",
         "Manual",
         "0"
        ],
        [
         "5",
         "vitara brezza",
         "2018",
         "9.25",
         "9.83",
         "2071",
         "Diesel",
         "Dealer",
         "Manual",
         "0"
        ],
        [
         "6",
         "ciaz",
         "2015",
         "6.75",
         "8.12",
         "18796",
         "Petrol",
         "Dealer",
         "Manual",
         "0"
        ],
        [
         "7",
         "s cross",
         "2015",
         "6.5",
         "8.61",
         "33429",
         "Diesel",
         "Dealer",
         "Manual",
         "0"
        ],
        [
         "8",
         "ciaz",
         "2016",
         "8.75",
         "8.89",
         "20273",
         "Diesel",
         "Dealer",
         "Manual",
         "0"
        ],
        [
         "9",
         "ciaz",
         "2015",
         "7.45",
         "8.92",
         "42367",
         "Diesel",
         "Dealer",
         "Manual",
         "0"
        ],
        [
         "10",
         "alto 800",
         "2017",
         "2.85",
         "3.6",
         "2135",
         "Petrol",
         "Dealer",
         "Manual",
         "0"
        ],
        [
         "11",
         "ciaz",
         "2015",
         "6.85",
         "10.38",
         "51000",
         "Diesel",
         "Dealer",
         "Manual",
         "0"
        ],
        [
         "12",
         "ciaz",
         "2015",
         "7.5",
         "9.94",
         "15000",
         "Petrol",
         "Dealer",
         "Automatic",
         "0"
        ],
        [
         "13",
         "ertiga",
         "2015",
         "6.1",
         "7.71",
         "26000",
         "Petrol",
         "Dealer",
         "Manual",
         "0"
        ],
        [
         "14",
         "dzire",
         "2009",
         "2.25",
         "7.21",
         "77427",
         "Petrol",
         "Dealer",
         "Manual",
         "0"
        ],
        [
         "15",
         "ertiga",
         "2016",
         "7.75",
         "10.79",
         "43000",
         "Diesel",
         "Dealer",
         "Manual",
         "0"
        ],
        [
         "16",
         "ertiga",
         "2015",
         "7.25",
         "10.79",
         "41678",
         "Diesel",
         "Dealer",
         "Manual",
         "0"
        ],
        [
         "17",
         "ertiga",
         "2016",
         "7.75",
         "10.79",
         "43000",
         "Diesel",
         "Dealer",
         "Manual",
         "0"
        ],
        [
         "18",
         "wagon r",
         "2015",
         "3.25",
         "5.09",
         "35500",
         "CNG",
         "Dealer",
         "Manual",
         "0"
        ],
        [
         "19",
         "sx4",
         "2010",
         "2.65",
         "7.98",
         "41442",
         "Petrol",
         "Dealer",
         "Manual",
         "0"
        ],
        [
         "20",
         "alto k10",
         "2016",
         "2.85",
         "3.95",
         "25000",
         "Petrol",
         "Dealer",
         "Manual",
         "0"
        ],
        [
         "21",
         "ignis",
         "2017",
         "4.9",
         "5.71",
         "2400",
         "Petrol",
         "Dealer",
         "Manual",
         "0"
        ],
        [
         "22",
         "sx4",
         "2011",
         "4.4",
         "8.01",
         "50000",
         "Petrol",
         "Dealer",
         "Automatic",
         "0"
        ],
        [
         "23",
         "alto k10",
         "2014",
         "2.5",
         "3.46",
         "45280",
         "Petrol",
         "Dealer",
         "Manual",
         "0"
        ],
        [
         "24",
         "wagon r",
         "2013",
         "2.9",
         "4.41",
         "56879",
         "Petrol",
         "Dealer",
         "Manual",
         "0"
        ],
        [
         "25",
         "swift",
         "2011",
         "3.0",
         "4.99",
         "20000",
         "Petrol",
         "Dealer",
         "Manual",
         "0"
        ],
        [
         "26",
         "swift",
         "2013",
         "4.15",
         "5.87",
         "55138",
         "Petrol",
         "Dealer",
         "Manual",
         "0"
        ],
        [
         "27",
         "swift",
         "2017",
         "6.0",
         "6.49",
         "16200",
         "Petrol",
         "Individual",
         "Manual",
         "0"
        ],
        [
         "28",
         "alto k10",
         "2010",
         "1.95",
         "3.95",
         "44542",
         "Petrol",
         "Dealer",
         "Manual",
         "0"
        ],
        [
         "29",
         "ciaz",
         "2015",
         "7.45",
         "10.38",
         "45000",
         "Diesel",
         "Dealer",
         "Manual",
         "0"
        ],
        [
         "30",
         "ritz",
         "2012",
         "3.1",
         "5.98",
         "51439",
         "Diesel",
         "Dealer",
         "Manual",
         "0"
        ],
        [
         "31",
         "ritz",
         "2011",
         "2.35",
         "4.89",
         "54200",
         "Petrol",
         "Dealer",
         "Manual",
         "0"
        ],
        [
         "32",
         "swift",
         "2014",
         "4.95",
         "7.49",
         "39000",
         "Diesel",
         "Dealer",
         "Manual",
         "0"
        ],
        [
         "33",
         "ertiga",
         "2014",
         "6.0",
         "9.95",
         "45000",
         "Diesel",
         "Dealer",
         "Manual",
         "0"
        ],
        [
         "34",
         "dzire",
         "2014",
         "5.5",
         "8.06",
         "45000",
         "Diesel",
         "Dealer",
         "Manual",
         "0"
        ],
        [
         "35",
         "sx4",
         "2011",
         "2.95",
         "7.74",
         "49998",
         "CNG",
         "Dealer",
         "Manual",
         "0"
        ],
        [
         "36",
         "dzire",
         "2015",
         "4.65",
         "7.2",
         "48767",
         "Petrol",
         "Dealer",
         "Manual",
         "0"
        ],
        [
         "37",
         "800",
         "2003",
         "0.35",
         "2.28",
         "127000",
         "Petrol",
         "Individual",
         "Manual",
         "0"
        ],
        [
         "38",
         "alto k10",
         "2016",
         "3.0",
         "3.76",
         "10079",
         "Petrol",
         "Dealer",
         "Manual",
         "0"
        ],
        [
         "39",
         "sx4",
         "2003",
         "2.25",
         "7.98",
         "62000",
         "Petrol",
         "Dealer",
         "Manual",
         "0"
        ],
        [
         "40",
         "baleno",
         "2016",
         "5.85",
         "7.87",
         "24524",
         "Petrol",
         "Dealer",
         "Automatic",
         "0"
        ],
        [
         "41",
         "alto k10",
         "2014",
         "2.55",
         "3.98",
         "46706",
         "Petrol",
         "Dealer",
         "Manual",
         "0"
        ],
        [
         "42",
         "sx4",
         "2008",
         "1.95",
         "7.15",
         "58000",
         "Petrol",
         "Dealer",
         "Manual",
         "0"
        ],
        [
         "43",
         "dzire",
         "2014",
         "5.5",
         "8.06",
         "45780",
         "Diesel",
         "Dealer",
         "Manual",
         "0"
        ],
        [
         "44",
         "omni",
         "2012",
         "1.25",
         "2.69",
         "50000",
         "Petrol",
         "Dealer",
         "Manual",
         "0"
        ],
        [
         "45",
         "ciaz",
         "2014",
         "7.5",
         "12.04",
         "15000",
         "Petrol",
         "Dealer",
         "Automatic",
         "0"
        ],
        [
         "46",
         "ritz",
         "2013",
         "2.65",
         "4.89",
         "64532",
         "Petrol",
         "Dealer",
         "Manual",
         "0"
        ],
        [
         "47",
         "wagon r",
         "2006",
         "1.05",
         "4.15",
         "65000",
         "Petrol",
         "Dealer",
         "Manual",
         "0"
        ],
        [
         "48",
         "ertiga",
         "2015",
         "5.8",
         "7.71",
         "25870",
         "Petrol",
         "Dealer",
         "Manual",
         "0"
        ],
        [
         "49",
         "ciaz",
         "2017",
         "7.75",
         "9.29",
         "37000",
         "Petrol",
         "Dealer",
         "Automatic",
         "0"
        ]
       ],
       "shape": {
        "columns": 9,
        "rows": 301
       }
      },
      "text/html": [
       "<div>\n",
       "<style scoped>\n",
       "    .dataframe tbody tr th:only-of-type {\n",
       "        vertical-align: middle;\n",
       "    }\n",
       "\n",
       "    .dataframe tbody tr th {\n",
       "        vertical-align: top;\n",
       "    }\n",
       "\n",
       "    .dataframe thead th {\n",
       "        text-align: right;\n",
       "    }\n",
       "</style>\n",
       "<table border=\"1\" class=\"dataframe\">\n",
       "  <thead>\n",
       "    <tr style=\"text-align: right;\">\n",
       "      <th></th>\n",
       "      <th>Car_Name</th>\n",
       "      <th>Year</th>\n",
       "      <th>Selling_Price</th>\n",
       "      <th>Present_Price</th>\n",
       "      <th>Kms_Driven</th>\n",
       "      <th>Fuel_Type</th>\n",
       "      <th>Seller_Type</th>\n",
       "      <th>Transmission</th>\n",
       "      <th>Owner</th>\n",
       "    </tr>\n",
       "  </thead>\n",
       "  <tbody>\n",
       "    <tr>\n",
       "      <th>0</th>\n",
       "      <td>ritz</td>\n",
       "      <td>2014</td>\n",
       "      <td>3.35</td>\n",
       "      <td>5.59</td>\n",
       "      <td>27000</td>\n",
       "      <td>Petrol</td>\n",
       "      <td>Dealer</td>\n",
       "      <td>Manual</td>\n",
       "      <td>0</td>\n",
       "    </tr>\n",
       "    <tr>\n",
       "      <th>1</th>\n",
       "      <td>sx4</td>\n",
       "      <td>2013</td>\n",
       "      <td>4.75</td>\n",
       "      <td>9.54</td>\n",
       "      <td>43000</td>\n",
       "      <td>Diesel</td>\n",
       "      <td>Dealer</td>\n",
       "      <td>Manual</td>\n",
       "      <td>0</td>\n",
       "    </tr>\n",
       "    <tr>\n",
       "      <th>2</th>\n",
       "      <td>ciaz</td>\n",
       "      <td>2017</td>\n",
       "      <td>7.25</td>\n",
       "      <td>9.85</td>\n",
       "      <td>6900</td>\n",
       "      <td>Petrol</td>\n",
       "      <td>Dealer</td>\n",
       "      <td>Manual</td>\n",
       "      <td>0</td>\n",
       "    </tr>\n",
       "    <tr>\n",
       "      <th>3</th>\n",
       "      <td>wagon r</td>\n",
       "      <td>2011</td>\n",
       "      <td>2.85</td>\n",
       "      <td>4.15</td>\n",
       "      <td>5200</td>\n",
       "      <td>Petrol</td>\n",
       "      <td>Dealer</td>\n",
       "      <td>Manual</td>\n",
       "      <td>0</td>\n",
       "    </tr>\n",
       "    <tr>\n",
       "      <th>4</th>\n",
       "      <td>swift</td>\n",
       "      <td>2014</td>\n",
       "      <td>4.60</td>\n",
       "      <td>6.87</td>\n",
       "      <td>42450</td>\n",
       "      <td>Diesel</td>\n",
       "      <td>Dealer</td>\n",
       "      <td>Manual</td>\n",
       "      <td>0</td>\n",
       "    </tr>\n",
       "    <tr>\n",
       "      <th>...</th>\n",
       "      <td>...</td>\n",
       "      <td>...</td>\n",
       "      <td>...</td>\n",
       "      <td>...</td>\n",
       "      <td>...</td>\n",
       "      <td>...</td>\n",
       "      <td>...</td>\n",
       "      <td>...</td>\n",
       "      <td>...</td>\n",
       "    </tr>\n",
       "    <tr>\n",
       "      <th>296</th>\n",
       "      <td>city</td>\n",
       "      <td>2016</td>\n",
       "      <td>9.50</td>\n",
       "      <td>11.60</td>\n",
       "      <td>33988</td>\n",
       "      <td>Diesel</td>\n",
       "      <td>Dealer</td>\n",
       "      <td>Manual</td>\n",
       "      <td>0</td>\n",
       "    </tr>\n",
       "    <tr>\n",
       "      <th>297</th>\n",
       "      <td>brio</td>\n",
       "      <td>2015</td>\n",
       "      <td>4.00</td>\n",
       "      <td>5.90</td>\n",
       "      <td>60000</td>\n",
       "      <td>Petrol</td>\n",
       "      <td>Dealer</td>\n",
       "      <td>Manual</td>\n",
       "      <td>0</td>\n",
       "    </tr>\n",
       "    <tr>\n",
       "      <th>298</th>\n",
       "      <td>city</td>\n",
       "      <td>2009</td>\n",
       "      <td>3.35</td>\n",
       "      <td>11.00</td>\n",
       "      <td>87934</td>\n",
       "      <td>Petrol</td>\n",
       "      <td>Dealer</td>\n",
       "      <td>Manual</td>\n",
       "      <td>0</td>\n",
       "    </tr>\n",
       "    <tr>\n",
       "      <th>299</th>\n",
       "      <td>city</td>\n",
       "      <td>2017</td>\n",
       "      <td>11.50</td>\n",
       "      <td>12.50</td>\n",
       "      <td>9000</td>\n",
       "      <td>Diesel</td>\n",
       "      <td>Dealer</td>\n",
       "      <td>Manual</td>\n",
       "      <td>0</td>\n",
       "    </tr>\n",
       "    <tr>\n",
       "      <th>300</th>\n",
       "      <td>brio</td>\n",
       "      <td>2016</td>\n",
       "      <td>5.30</td>\n",
       "      <td>5.90</td>\n",
       "      <td>5464</td>\n",
       "      <td>Petrol</td>\n",
       "      <td>Dealer</td>\n",
       "      <td>Manual</td>\n",
       "      <td>0</td>\n",
       "    </tr>\n",
       "  </tbody>\n",
       "</table>\n",
       "<p>301 rows × 9 columns</p>\n",
       "</div>"
      ],
      "text/plain": [
       "    Car_Name  Year  Selling_Price  Present_Price  Kms_Driven Fuel_Type  \\\n",
       "0       ritz  2014           3.35           5.59       27000    Petrol   \n",
       "1        sx4  2013           4.75           9.54       43000    Diesel   \n",
       "2       ciaz  2017           7.25           9.85        6900    Petrol   \n",
       "3    wagon r  2011           2.85           4.15        5200    Petrol   \n",
       "4      swift  2014           4.60           6.87       42450    Diesel   \n",
       "..       ...   ...            ...            ...         ...       ...   \n",
       "296     city  2016           9.50          11.60       33988    Diesel   \n",
       "297     brio  2015           4.00           5.90       60000    Petrol   \n",
       "298     city  2009           3.35          11.00       87934    Petrol   \n",
       "299     city  2017          11.50          12.50        9000    Diesel   \n",
       "300     brio  2016           5.30           5.90        5464    Petrol   \n",
       "\n",
       "    Seller_Type Transmission  Owner  \n",
       "0        Dealer       Manual      0  \n",
       "1        Dealer       Manual      0  \n",
       "2        Dealer       Manual      0  \n",
       "3        Dealer       Manual      0  \n",
       "4        Dealer       Manual      0  \n",
       "..          ...          ...    ...  \n",
       "296      Dealer       Manual      0  \n",
       "297      Dealer       Manual      0  \n",
       "298      Dealer       Manual      0  \n",
       "299      Dealer       Manual      0  \n",
       "300      Dealer       Manual      0  \n",
       "\n",
       "[301 rows x 9 columns]"
      ]
     },
     "execution_count": 51,
     "metadata": {},
     "output_type": "execute_result"
    }
   ],
   "source": [
    "df=pd.read_csv('car data.csv')\n",
    "df"
   ]
  },
  {
   "cell_type": "code",
   "execution_count": 52,
   "id": "bc5d858c-e4e0-4148-a91e-32c03f407028",
   "metadata": {},
   "outputs": [
    {
     "data": {
      "application/vnd.microsoft.datawrangler.viewer.v0+json": {
       "columns": [
        {
         "name": "Fuel_Type",
         "rawType": "object",
         "type": "string"
        },
        {
         "name": "count",
         "rawType": "int64",
         "type": "integer"
        }
       ],
       "ref": "c47304ec-f93b-4d07-ba8e-d1347b845d92",
       "rows": [
        [
         "Petrol",
         "239"
        ],
        [
         "Diesel",
         "60"
        ],
        [
         "CNG",
         "2"
        ]
       ],
       "shape": {
        "columns": 1,
        "rows": 3
       }
      },
      "text/plain": [
       "Fuel_Type\n",
       "Petrol    239\n",
       "Diesel     60\n",
       "CNG         2\n",
       "Name: count, dtype: int64"
      ]
     },
     "execution_count": 52,
     "metadata": {},
     "output_type": "execute_result"
    }
   ],
   "source": [
    "df['Fuel_Type'].value_counts()"
   ]
  },
  {
   "cell_type": "code",
   "execution_count": 53,
   "id": "87494591-923c-483e-b3e4-4b4fc7eec7a9",
   "metadata": {},
   "outputs": [
    {
     "data": {
      "application/vnd.microsoft.datawrangler.viewer.v0+json": {
       "columns": [
        {
         "name": "Seller_Type",
         "rawType": "object",
         "type": "string"
        },
        {
         "name": "count",
         "rawType": "int64",
         "type": "integer"
        }
       ],
       "ref": "62ab382f-04b4-4401-8995-ab24d591a9b0",
       "rows": [
        [
         "Dealer",
         "195"
        ],
        [
         "Individual",
         "106"
        ]
       ],
       "shape": {
        "columns": 1,
        "rows": 2
       }
      },
      "text/plain": [
       "Seller_Type\n",
       "Dealer        195\n",
       "Individual    106\n",
       "Name: count, dtype: int64"
      ]
     },
     "execution_count": 53,
     "metadata": {},
     "output_type": "execute_result"
    }
   ],
   "source": [
    "df['Seller_Type'].value_counts()"
   ]
  },
  {
   "cell_type": "code",
   "execution_count": 54,
   "id": "6bfbac19-788f-43f6-9fe5-c037bc145979",
   "metadata": {},
   "outputs": [
    {
     "data": {
      "application/vnd.microsoft.datawrangler.viewer.v0+json": {
       "columns": [
        {
         "name": "Transmission",
         "rawType": "object",
         "type": "string"
        },
        {
         "name": "count",
         "rawType": "int64",
         "type": "integer"
        }
       ],
       "ref": "2e24fb80-34a9-4c8b-bf17-59d6127e7751",
       "rows": [
        [
         "Manual",
         "261"
        ],
        [
         "Automatic",
         "40"
        ]
       ],
       "shape": {
        "columns": 1,
        "rows": 2
       }
      },
      "text/plain": [
       "Transmission\n",
       "Manual       261\n",
       "Automatic     40\n",
       "Name: count, dtype: int64"
      ]
     },
     "execution_count": 54,
     "metadata": {},
     "output_type": "execute_result"
    }
   ],
   "source": [
    "df['Transmission'].value_counts()"
   ]
  },
  {
   "cell_type": "code",
   "execution_count": 55,
   "id": "a3dff666-7c03-405b-a5c4-f845246c16f2",
   "metadata": {},
   "outputs": [],
   "source": [
    "df.drop('Car_Name',axis=1,inplace=True)"
   ]
  },
  {
   "cell_type": "code",
   "execution_count": 56,
   "id": "7614c38b-1234-4ef9-bc80-53758176a76f",
   "metadata": {},
   "outputs": [],
   "source": [
    "# plt.scatter(x=df['Selling_Price'],y=df['Present_Price'])"
   ]
  },
  {
   "cell_type": "markdown",
   "id": "70795dcf-14c0-4f83-9a96-8db4744132c7",
   "metadata": {},
   "source": [
    "## Encoding the data"
   ]
  },
  {
   "cell_type": "code",
   "execution_count": 57,
   "id": "a2fa0e61-94a4-4c58-84f0-679681a51c13",
   "metadata": {},
   "outputs": [],
   "source": [
    "df.replace({'Seller_Type':{'Dealer':0,'Individual':1}},inplace=True)"
   ]
  },
  {
   "cell_type": "code",
   "execution_count": 58,
   "id": "f77e48b9-51b3-4f01-8571-f5b711ac4e23",
   "metadata": {},
   "outputs": [],
   "source": [
    "df.replace({'Fuel_Type':{'Petrol':0,'Diesel':1,'CNG':2}},inplace=True)"
   ]
  },
  {
   "cell_type": "code",
   "execution_count": 59,
   "id": "65282c6c-7e4a-493b-b365-7e6d1bbdfa01",
   "metadata": {},
   "outputs": [],
   "source": [
    "df.replace({'Transmission':{'Manual':0,'Automatic':1}},inplace=True)"
   ]
  },
  {
   "cell_type": "code",
   "execution_count": 60,
   "id": "4c41e3a4-7af0-436a-8d92-f5452fbaaebb",
   "metadata": {},
   "outputs": [
    {
     "data": {
      "application/vnd.microsoft.datawrangler.viewer.v0+json": {
       "columns": [
        {
         "name": "index",
         "rawType": "int64",
         "type": "integer"
        },
        {
         "name": "Year",
         "rawType": "int64",
         "type": "integer"
        },
        {
         "name": "Selling_Price",
         "rawType": "float64",
         "type": "float"
        },
        {
         "name": "Present_Price",
         "rawType": "float64",
         "type": "float"
        },
        {
         "name": "Kms_Driven",
         "rawType": "int64",
         "type": "integer"
        },
        {
         "name": "Fuel_Type",
         "rawType": "int64",
         "type": "integer"
        },
        {
         "name": "Seller_Type",
         "rawType": "int64",
         "type": "integer"
        },
        {
         "name": "Transmission",
         "rawType": "int64",
         "type": "integer"
        },
        {
         "name": "Owner",
         "rawType": "int64",
         "type": "integer"
        }
       ],
       "ref": "efcb0b9a-927e-4a94-9113-608cc0e294bc",
       "rows": [
        [
         "0",
         "2014",
         "3.35",
         "5.59",
         "27000",
         "0",
         "0",
         "0",
         "0"
        ],
        [
         "1",
         "2013",
         "4.75",
         "9.54",
         "43000",
         "1",
         "0",
         "0",
         "0"
        ],
        [
         "2",
         "2017",
         "7.25",
         "9.85",
         "6900",
         "0",
         "0",
         "0",
         "0"
        ],
        [
         "3",
         "2011",
         "2.85",
         "4.15",
         "5200",
         "0",
         "0",
         "0",
         "0"
        ],
        [
         "4",
         "2014",
         "4.6",
         "6.87",
         "42450",
         "1",
         "0",
         "0",
         "0"
        ],
        [
         "5",
         "2018",
         "9.25",
         "9.83",
         "2071",
         "1",
         "0",
         "0",
         "0"
        ],
        [
         "6",
         "2015",
         "6.75",
         "8.12",
         "18796",
         "0",
         "0",
         "0",
         "0"
        ],
        [
         "7",
         "2015",
         "6.5",
         "8.61",
         "33429",
         "1",
         "0",
         "0",
         "0"
        ],
        [
         "8",
         "2016",
         "8.75",
         "8.89",
         "20273",
         "1",
         "0",
         "0",
         "0"
        ],
        [
         "9",
         "2015",
         "7.45",
         "8.92",
         "42367",
         "1",
         "0",
         "0",
         "0"
        ],
        [
         "10",
         "2017",
         "2.85",
         "3.6",
         "2135",
         "0",
         "0",
         "0",
         "0"
        ],
        [
         "11",
         "2015",
         "6.85",
         "10.38",
         "51000",
         "1",
         "0",
         "0",
         "0"
        ],
        [
         "12",
         "2015",
         "7.5",
         "9.94",
         "15000",
         "0",
         "0",
         "1",
         "0"
        ],
        [
         "13",
         "2015",
         "6.1",
         "7.71",
         "26000",
         "0",
         "0",
         "0",
         "0"
        ],
        [
         "14",
         "2009",
         "2.25",
         "7.21",
         "77427",
         "0",
         "0",
         "0",
         "0"
        ],
        [
         "15",
         "2016",
         "7.75",
         "10.79",
         "43000",
         "1",
         "0",
         "0",
         "0"
        ],
        [
         "16",
         "2015",
         "7.25",
         "10.79",
         "41678",
         "1",
         "0",
         "0",
         "0"
        ],
        [
         "17",
         "2016",
         "7.75",
         "10.79",
         "43000",
         "1",
         "0",
         "0",
         "0"
        ],
        [
         "18",
         "2015",
         "3.25",
         "5.09",
         "35500",
         "2",
         "0",
         "0",
         "0"
        ],
        [
         "19",
         "2010",
         "2.65",
         "7.98",
         "41442",
         "0",
         "0",
         "0",
         "0"
        ],
        [
         "20",
         "2016",
         "2.85",
         "3.95",
         "25000",
         "0",
         "0",
         "0",
         "0"
        ],
        [
         "21",
         "2017",
         "4.9",
         "5.71",
         "2400",
         "0",
         "0",
         "0",
         "0"
        ],
        [
         "22",
         "2011",
         "4.4",
         "8.01",
         "50000",
         "0",
         "0",
         "1",
         "0"
        ],
        [
         "23",
         "2014",
         "2.5",
         "3.46",
         "45280",
         "0",
         "0",
         "0",
         "0"
        ],
        [
         "24",
         "2013",
         "2.9",
         "4.41",
         "56879",
         "0",
         "0",
         "0",
         "0"
        ],
        [
         "25",
         "2011",
         "3.0",
         "4.99",
         "20000",
         "0",
         "0",
         "0",
         "0"
        ],
        [
         "26",
         "2013",
         "4.15",
         "5.87",
         "55138",
         "0",
         "0",
         "0",
         "0"
        ],
        [
         "27",
         "2017",
         "6.0",
         "6.49",
         "16200",
         "0",
         "1",
         "0",
         "0"
        ],
        [
         "28",
         "2010",
         "1.95",
         "3.95",
         "44542",
         "0",
         "0",
         "0",
         "0"
        ],
        [
         "29",
         "2015",
         "7.45",
         "10.38",
         "45000",
         "1",
         "0",
         "0",
         "0"
        ],
        [
         "30",
         "2012",
         "3.1",
         "5.98",
         "51439",
         "1",
         "0",
         "0",
         "0"
        ],
        [
         "31",
         "2011",
         "2.35",
         "4.89",
         "54200",
         "0",
         "0",
         "0",
         "0"
        ],
        [
         "32",
         "2014",
         "4.95",
         "7.49",
         "39000",
         "1",
         "0",
         "0",
         "0"
        ],
        [
         "33",
         "2014",
         "6.0",
         "9.95",
         "45000",
         "1",
         "0",
         "0",
         "0"
        ],
        [
         "34",
         "2014",
         "5.5",
         "8.06",
         "45000",
         "1",
         "0",
         "0",
         "0"
        ],
        [
         "35",
         "2011",
         "2.95",
         "7.74",
         "49998",
         "2",
         "0",
         "0",
         "0"
        ],
        [
         "36",
         "2015",
         "4.65",
         "7.2",
         "48767",
         "0",
         "0",
         "0",
         "0"
        ],
        [
         "37",
         "2003",
         "0.35",
         "2.28",
         "127000",
         "0",
         "1",
         "0",
         "0"
        ],
        [
         "38",
         "2016",
         "3.0",
         "3.76",
         "10079",
         "0",
         "0",
         "0",
         "0"
        ],
        [
         "39",
         "2003",
         "2.25",
         "7.98",
         "62000",
         "0",
         "0",
         "0",
         "0"
        ],
        [
         "40",
         "2016",
         "5.85",
         "7.87",
         "24524",
         "0",
         "0",
         "1",
         "0"
        ],
        [
         "41",
         "2014",
         "2.55",
         "3.98",
         "46706",
         "0",
         "0",
         "0",
         "0"
        ],
        [
         "42",
         "2008",
         "1.95",
         "7.15",
         "58000",
         "0",
         "0",
         "0",
         "0"
        ],
        [
         "43",
         "2014",
         "5.5",
         "8.06",
         "45780",
         "1",
         "0",
         "0",
         "0"
        ],
        [
         "44",
         "2012",
         "1.25",
         "2.69",
         "50000",
         "0",
         "0",
         "0",
         "0"
        ],
        [
         "45",
         "2014",
         "7.5",
         "12.04",
         "15000",
         "0",
         "0",
         "1",
         "0"
        ],
        [
         "46",
         "2013",
         "2.65",
         "4.89",
         "64532",
         "0",
         "0",
         "0",
         "0"
        ],
        [
         "47",
         "2006",
         "1.05",
         "4.15",
         "65000",
         "0",
         "0",
         "0",
         "0"
        ],
        [
         "48",
         "2015",
         "5.8",
         "7.71",
         "25870",
         "0",
         "0",
         "0",
         "0"
        ],
        [
         "49",
         "2017",
         "7.75",
         "9.29",
         "37000",
         "0",
         "0",
         "1",
         "0"
        ]
       ],
       "shape": {
        "columns": 8,
        "rows": 301
       }
      },
      "text/html": [
       "<div>\n",
       "<style scoped>\n",
       "    .dataframe tbody tr th:only-of-type {\n",
       "        vertical-align: middle;\n",
       "    }\n",
       "\n",
       "    .dataframe tbody tr th {\n",
       "        vertical-align: top;\n",
       "    }\n",
       "\n",
       "    .dataframe thead th {\n",
       "        text-align: right;\n",
       "    }\n",
       "</style>\n",
       "<table border=\"1\" class=\"dataframe\">\n",
       "  <thead>\n",
       "    <tr style=\"text-align: right;\">\n",
       "      <th></th>\n",
       "      <th>Year</th>\n",
       "      <th>Selling_Price</th>\n",
       "      <th>Present_Price</th>\n",
       "      <th>Kms_Driven</th>\n",
       "      <th>Fuel_Type</th>\n",
       "      <th>Seller_Type</th>\n",
       "      <th>Transmission</th>\n",
       "      <th>Owner</th>\n",
       "    </tr>\n",
       "  </thead>\n",
       "  <tbody>\n",
       "    <tr>\n",
       "      <th>0</th>\n",
       "      <td>2014</td>\n",
       "      <td>3.35</td>\n",
       "      <td>5.59</td>\n",
       "      <td>27000</td>\n",
       "      <td>0</td>\n",
       "      <td>0</td>\n",
       "      <td>0</td>\n",
       "      <td>0</td>\n",
       "    </tr>\n",
       "    <tr>\n",
       "      <th>1</th>\n",
       "      <td>2013</td>\n",
       "      <td>4.75</td>\n",
       "      <td>9.54</td>\n",
       "      <td>43000</td>\n",
       "      <td>1</td>\n",
       "      <td>0</td>\n",
       "      <td>0</td>\n",
       "      <td>0</td>\n",
       "    </tr>\n",
       "    <tr>\n",
       "      <th>2</th>\n",
       "      <td>2017</td>\n",
       "      <td>7.25</td>\n",
       "      <td>9.85</td>\n",
       "      <td>6900</td>\n",
       "      <td>0</td>\n",
       "      <td>0</td>\n",
       "      <td>0</td>\n",
       "      <td>0</td>\n",
       "    </tr>\n",
       "    <tr>\n",
       "      <th>3</th>\n",
       "      <td>2011</td>\n",
       "      <td>2.85</td>\n",
       "      <td>4.15</td>\n",
       "      <td>5200</td>\n",
       "      <td>0</td>\n",
       "      <td>0</td>\n",
       "      <td>0</td>\n",
       "      <td>0</td>\n",
       "    </tr>\n",
       "    <tr>\n",
       "      <th>4</th>\n",
       "      <td>2014</td>\n",
       "      <td>4.60</td>\n",
       "      <td>6.87</td>\n",
       "      <td>42450</td>\n",
       "      <td>1</td>\n",
       "      <td>0</td>\n",
       "      <td>0</td>\n",
       "      <td>0</td>\n",
       "    </tr>\n",
       "    <tr>\n",
       "      <th>...</th>\n",
       "      <td>...</td>\n",
       "      <td>...</td>\n",
       "      <td>...</td>\n",
       "      <td>...</td>\n",
       "      <td>...</td>\n",
       "      <td>...</td>\n",
       "      <td>...</td>\n",
       "      <td>...</td>\n",
       "    </tr>\n",
       "    <tr>\n",
       "      <th>296</th>\n",
       "      <td>2016</td>\n",
       "      <td>9.50</td>\n",
       "      <td>11.60</td>\n",
       "      <td>33988</td>\n",
       "      <td>1</td>\n",
       "      <td>0</td>\n",
       "      <td>0</td>\n",
       "      <td>0</td>\n",
       "    </tr>\n",
       "    <tr>\n",
       "      <th>297</th>\n",
       "      <td>2015</td>\n",
       "      <td>4.00</td>\n",
       "      <td>5.90</td>\n",
       "      <td>60000</td>\n",
       "      <td>0</td>\n",
       "      <td>0</td>\n",
       "      <td>0</td>\n",
       "      <td>0</td>\n",
       "    </tr>\n",
       "    <tr>\n",
       "      <th>298</th>\n",
       "      <td>2009</td>\n",
       "      <td>3.35</td>\n",
       "      <td>11.00</td>\n",
       "      <td>87934</td>\n",
       "      <td>0</td>\n",
       "      <td>0</td>\n",
       "      <td>0</td>\n",
       "      <td>0</td>\n",
       "    </tr>\n",
       "    <tr>\n",
       "      <th>299</th>\n",
       "      <td>2017</td>\n",
       "      <td>11.50</td>\n",
       "      <td>12.50</td>\n",
       "      <td>9000</td>\n",
       "      <td>1</td>\n",
       "      <td>0</td>\n",
       "      <td>0</td>\n",
       "      <td>0</td>\n",
       "    </tr>\n",
       "    <tr>\n",
       "      <th>300</th>\n",
       "      <td>2016</td>\n",
       "      <td>5.30</td>\n",
       "      <td>5.90</td>\n",
       "      <td>5464</td>\n",
       "      <td>0</td>\n",
       "      <td>0</td>\n",
       "      <td>0</td>\n",
       "      <td>0</td>\n",
       "    </tr>\n",
       "  </tbody>\n",
       "</table>\n",
       "<p>301 rows × 8 columns</p>\n",
       "</div>"
      ],
      "text/plain": [
       "     Year  Selling_Price  Present_Price  Kms_Driven  Fuel_Type  Seller_Type  \\\n",
       "0    2014           3.35           5.59       27000          0            0   \n",
       "1    2013           4.75           9.54       43000          1            0   \n",
       "2    2017           7.25           9.85        6900          0            0   \n",
       "3    2011           2.85           4.15        5200          0            0   \n",
       "4    2014           4.60           6.87       42450          1            0   \n",
       "..    ...            ...            ...         ...        ...          ...   \n",
       "296  2016           9.50          11.60       33988          1            0   \n",
       "297  2015           4.00           5.90       60000          0            0   \n",
       "298  2009           3.35          11.00       87934          0            0   \n",
       "299  2017          11.50          12.50        9000          1            0   \n",
       "300  2016           5.30           5.90        5464          0            0   \n",
       "\n",
       "     Transmission  Owner  \n",
       "0               0      0  \n",
       "1               0      0  \n",
       "2               0      0  \n",
       "3               0      0  \n",
       "4               0      0  \n",
       "..            ...    ...  \n",
       "296             0      0  \n",
       "297             0      0  \n",
       "298             0      0  \n",
       "299             0      0  \n",
       "300             0      0  \n",
       "\n",
       "[301 rows x 8 columns]"
      ]
     },
     "execution_count": 60,
     "metadata": {},
     "output_type": "execute_result"
    }
   ],
   "source": [
    "df"
   ]
  },
  {
   "cell_type": "code",
   "execution_count": 61,
   "id": "450dcba0-fda7-426d-beaa-3ab869868943",
   "metadata": {},
   "outputs": [
    {
     "data": {
      "image/png": "[encoded data removed]",
      "text/plain": [
       "<Figure size 1600x1000 with 2 Axes>"
      ]
     },
     "metadata": {},
     "output_type": "display_data"
    }
   ],
   "source": [
    "plt.figure(figsize=(16, 10))\n",
    "sns.heatmap(df.corr(), annot=True)\n",
    "plt.show()"
   ]
  },
  {
   "cell_type": "code",
   "execution_count": 62,
   "id": "913e6a88-8260-498c-92e6-c93706134d68",
   "metadata": {},
   "outputs": [],
   "source": [
    "X = df.drop('Selling_Price', axis=1)\n",
    "y = df['Selling_Price']"
   ]
  },
  {
   "cell_type": "code",
   "execution_count": 63,
   "id": "1b802acc-6ae5-46cb-be5a-16b979077155",
   "metadata": {},
   "outputs": [],
   "source": [
    "from sklearn.model_selection import train_test_split\n",
    "X_train,X_test,y_train,y_test=train_test_split(X,y,test_size=0.25,random_state=42)"
   ]
  },
  {
   "cell_type": "markdown",
   "id": "f73e5ff2-b97a-4a4c-ab99-c393368b88ee",
   "metadata": {},
   "source": [
    "## SUPPORT-VECTOR-MACHINE"
   ]
  },
  {
   "cell_type": "code",
   "execution_count": 64,
   "id": "d8021f72-4e43-49bc-ae15-b57f107f6880",
   "metadata": {},
   "outputs": [],
   "source": [
    "from sklearn.svm import SVR\n",
    "\n",
    "\n",
    "S=SVR(C=1,epsilon=1,kernel='rbf',gamma='scale')\n",
    "\n",
    "S.fit(X_train,y_train)\n",
    "pred1=S.predict(X_test)# testing\n",
    "\n",
    "pred12=S.predict(X_train)#trainng"
   ]
  },
  {
   "cell_type": "code",
   "execution_count": 65,
   "id": "7a30c0b2-014e-4fa0-a456-294204c0228e",
   "metadata": {},
   "outputs": [
    {
     "name": "stdout",
     "output_type": "stream",
     "text": [
      "29.105757846318667\n",
      "3.3347260253699575\n",
      "-0.059381095473693524\n"
     ]
    }
   ],
   "source": [
    "from sklearn.metrics import mean_squared_error,mean_absolute_error,r2_score\n",
    "print(mean_squared_error(y_test,pred1))\n",
    "print(mean_absolute_error(y_test,pred1))\n",
    "print(r2_score(y_test,pred1))"
   ]
  },
  {
   "cell_type": "markdown",
   "id": "4468233f-e5c5-4a5b-becb-ea064e7716cc",
   "metadata": {},
   "source": [
    "## prediction for training data"
   ]
  },
  {
   "cell_type": "code",
   "execution_count": 66,
   "id": "fd3b6b94-1fd0-4733-a378-38c44381432e",
   "metadata": {},
   "outputs": [
    {
     "name": "stdout",
     "output_type": "stream",
     "text": [
      "26.528142476018022\n",
      "3.150846767284629\n",
      "-0.05456986565906852\n"
     ]
    }
   ],
   "source": [
    "print(mean_squared_error(y_train,pred12))\n",
    "print(mean_absolute_error(y_train,pred12))\n",
    "print(r2_score(y_train,pred12))"
   ]
  },
  {
   "cell_type": "code",
   "execution_count": 67,
   "id": "d8f172be-4b44-401d-b8cb-697094556852",
   "metadata": {},
   "outputs": [
    {
     "data": {
      "text/plain": [
       "Text(0, 0.5, 'predicted prices')"
      ]
     },
     "execution_count": 67,
     "metadata": {},
     "output_type": "execute_result"
    },
    {
     "data": {
      "image/png": "[encoded data removed]",
      "text/plain": [
       "<Figure size 640x480 with 1 Axes>"
      ]
     },
     "metadata": {},
     "output_type": "display_data"
    }
   ],
   "source": [
    "\n",
    "plt.scatter(y_test,pred1,color='blue')\n",
    "\n",
    "plt.xlabel(\"actual prices\")\n",
    "plt.ylabel(\"predicted prices\")\n"
   ]
  },
  {
   "cell_type": "markdown",
   "id": "723d7092-d422-4b93-94c5-69e11f50dc1c",
   "metadata": {},
   "source": [
    "## LINEAR REGRESSION"
   ]
  },
  {
   "cell_type": "code",
   "execution_count": 68,
   "id": "bbd7654c",
   "metadata": {},
   "outputs": [],
   "source": [
    "X=df['Present_Price'].values\n",
    "#print(X)\n",
    "X=X[:,np.newaxis]\n",
    "#print(X)\n",
    "Y=df['Selling_Price'].values\n",
    "#print(Y)\n",
    "Y=Y[:,np.newaxis]\n",
    "#print(Y)"
   ]
  },
  {
   "cell_type": "code",
   "execution_count": 70,
   "id": "1ff09183-6c13-4b95-b43f-3499fce75359",
   "metadata": {
    "notebookRunGroups": {
     "groupValue": "1"
    }
   },
   "outputs": [],
   "source": [
    "\n",
    "from sklearn.linear_model import LinearRegression\n",
    "\n",
    "from sklearn.model_selection import train_test_split\n",
    "X_train,X_test,y_train,y_test=train_test_split(X,Y,test_size=0.25,random_state=42)"
   ]
  },
  {
   "cell_type": "code",
   "execution_count": 71,
   "id": "28ffa1f6-9893-405c-99f3-ab7948d08c91",
   "metadata": {},
   "outputs": [],
   "source": [
    "LR=LinearRegression()\n",
    "LR.fit(X_train,y_train)\n",
    "model2=LR.predict(X_test)\n",
    "\n",
    "model12=LR.predict(X_train)"
   ]
  },
  {
   "cell_type": "code",
   "execution_count": 72,
   "id": "275a35ec-1bf9-4a7f-a392-d630bb27b478",
   "metadata": {},
   "outputs": [
    {
     "name": "stdout",
     "output_type": "stream",
     "text": [
      "6.60196281302094\n",
      "1.706212928374979\n",
      "0.7597040889962836\n"
     ]
    }
   ],
   "source": [
    "print(mean_squared_error(y_test,model2))\n",
    "print(mean_absolute_error(y_test,model2))\n",
    "print(r2_score(y_test,model2))"
   ]
  },
  {
   "cell_type": "code",
   "execution_count": 73,
   "id": "0378a6ad-d523-4b44-bfc8-d368308502cc",
   "metadata": {},
   "outputs": [
    {
     "data": {
      "image/png": "[encoded data removed]",
      "text/plain": [
       "<Figure size 640x480 with 1 Axes>"
      ]
     },
     "metadata": {},
     "output_type": "display_data"
    }
   ],
   "source": [
    "plt.scatter(X,Y)\n",
    "plt.scatter(y_test,model2,color='pink')\n",
    "plt.xlabel(\"actual prices\")\n",
    "plt.ylabel(\"predicted prices\")\n",
    "plt.show()"
   ]
  },
  {
   "cell_type": "code",
   "execution_count": null,
   "id": "65a3eca9-161e-411f-8bd0-578e6564674f",
   "metadata": {},
   "outputs": [],
   "source": []
  },
  {
   "cell_type": "code",
   "execution_count": null,
   "id": "83497f8c-4d11-4dca-953b-a26a6f72c47e",
   "metadata": {},
   "outputs": [],
   "source": []
  },
  {
   "cell_type": "code",
   "execution_count": null,
   "id": "d7f232f2-fe5f-49d0-9849-a2a9f57ba1a4",
   "metadata": {},
   "outputs": [],
   "source": []
  }
 ],
 "metadata": {
  "kernelspec": {
   "display_name": "base",
   "language": "python",
   "name": "python3"
  },
  "language_info": {
   "codemirror_mode": {
    "name": "ipython",
    "version": 3
   },
   "file_extension": ".py",
   "mimetype": "text/x-python",
   "name": "python",
   "nbconvert_exporter": "python",
   "pygments_lexer": "ipython3",
   "version": "3.12.7"
  }
 },
 "nbformat": 4,
 "nbformat_minor": 5
}
